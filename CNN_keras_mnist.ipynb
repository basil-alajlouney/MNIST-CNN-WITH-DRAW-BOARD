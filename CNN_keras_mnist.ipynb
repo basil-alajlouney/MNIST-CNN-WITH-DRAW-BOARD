{
  "cells": [
    {
      "cell_type": "code",
      "execution_count": 212,
      "metadata": {},
      "outputs": [],
      "source": [
        "# irrelivant\n",
        "import os\n",
        "os.environ[\"KMP_DUPLICATE_LIB_OK\"]=\"TRUE\""
      ]
    },
    {
      "cell_type": "code",
      "execution_count": 213,
      "metadata": {},
      "outputs": [],
      "source": [
        "import numpy as np\n",
        "from keras.datasets import mnist\n",
        "from keras.layers import Dense, Conv2D, MaxPooling2D, Flatten, Dropout\n",
        "from keras.models import Sequential\n",
        "from keras.losses import categorical_crossentropy\n",
        "from keras.optimizers import Adam\n",
        "import matplotlib.pyplot as plt\n",
        "from tensorflow.keras.utils import to_categorical\n",
        "from PIL import ImageDraw, ImageTk, Image"
      ]
    },
    {
      "cell_type": "code",
      "execution_count": 214,
      "metadata": {},
      "outputs": [],
      "source": [
        "ALPHA = 1e-3"
      ]
    },
    {
      "cell_type": "code",
      "execution_count": 215,
      "metadata": {
        "colab": {},
        "colab_type": "code",
        "id": "ejfQluMac8Fw"
      },
      "outputs": [
        {
          "name": "stdout",
          "output_type": "stream",
          "text": [
            "the image below is an image of 8\n"
          ]
        },
        {
          "data": {
            "image/png": "[encoded data removed]",
            "text/plain": [
              "<Figure size 640x480 with 1 Axes>"
            ]
          },
          "metadata": {},
          "output_type": "display_data"
        }
      ],
      "source": [
        "# loading data\n",
        "(x_train,y_train),(x_test,y_test)=mnist.load_data()\n",
        "x_train, x_test = x_train /255, x_test /255\n",
        "y_train, y_test = to_categorical(y_train,num_classes=10), to_categorical(y_test,num_classes=10)\n",
        "img_dims = x_train[0].shape\n",
        "\n",
        "# checking data\n",
        "sample = int(np.random.random() * x_train.shape[0])\n",
        "plt.imshow(x_train[sample])\n",
        "print(f\"the image below is an image of {np.argmax(y_train[sample])}\")"
      ]
    },
    {
      "cell_type": "code",
      "execution_count": 216,
      "metadata": {},
      "outputs": [],
      "source": [
        "model = Sequential([\n",
        "  Conv2D(28,(2, 2),input_shape=(28, 28, 1),activation=\"relu\"),\n",
        "  Conv2D(56, (4,4)),\n",
        "  MaxPooling2D((2, 2)),\n",
        "  Flatten(),\n",
        "  Dense(64,activation=\"relu\"),\n",
        "  Dropout(.3),\n",
        "  Dense(32,activation=\"relu\"),\n",
        "  Dense(16,activation=\"relu\"),\n",
        "  Dense(10,activation=\"softmax\")\n",
        "])\n",
        "\n",
        "model.compile(\n",
        "  optimizer=Adam(learning_rate=ALPHA),\n",
        "  loss=categorical_crossentropy,\n",
        "  metrics=[\"accuracy\"]\n",
        ")"
      ]
    },
    {
      "cell_type": "code",
      "execution_count": 217,
      "metadata": {},
      "outputs": [
        {
          "name": "stdout",
          "output_type": "stream",
          "text": [
            "Epoch 1/10\n",
            "1875/1875 [==============================] - 80s 41ms/step - loss: 0.2600 - accuracy: 0.9217\n",
            "Epoch 2/10\n",
            "1875/1875 [==============================] - 78s 42ms/step - loss: 0.0997 - accuracy: 0.9704\n",
            "Epoch 3/10\n",
            "1875/1875 [==============================] - 79s 42ms/step - loss: 0.0789 - accuracy: 0.9769\n",
            "Epoch 4/10\n",
            "1875/1875 [==============================] - 77s 41ms/step - loss: 0.0649 - accuracy: 0.9804\n",
            "Epoch 5/10\n",
            "1875/1875 [==============================] - 73s 39ms/step - loss: 0.0554 - accuracy: 0.9834\n",
            "Epoch 6/10\n",
            "1875/1875 [==============================] - 78s 42ms/step - loss: 0.0458 - accuracy: 0.9855\n",
            "Epoch 7/10\n",
            "1875/1875 [==============================] - 77s 41ms/step - loss: 0.0413 - accuracy: 0.9874\n",
            "Epoch 8/10\n",
            "1875/1875 [==============================] - 76s 41ms/step - loss: 0.0351 - accuracy: 0.9891\n",
            "Epoch 9/10\n",
            "1875/1875 [==============================] - 80s 43ms/step - loss: 0.0346 - accuracy: 0.9892\n",
            "Epoch 10/10\n",
            "1875/1875 [==============================] - 79s 42ms/step - loss: 0.0295 - accuracy: 0.9911\n"
          ]
        },
        {
          "data": {
            "text/plain": [
              "<keras.callbacks.History at 0x12be307ff10>"
            ]
          },
          "execution_count": 217,
          "metadata": {},
          "output_type": "execute_result"
        }
      ],
      "source": [
        "model.fit(x_train,y_train,epochs=10)\n",
        "# print(x_train.shape)\n",
        "# print(y_train.shape)"
      ]
    },
    {
      "cell_type": "code",
      "execution_count": 218,
      "metadata": {},
      "outputs": [
        {
          "name": "stdout",
          "output_type": "stream",
          "text": [
            "the loss on the testing set is: 0.05025728791952133\n",
            "the accuracy of the testing set is: 0.986299991607666\n"
          ]
        }
      ],
      "source": [
        "results = model.test_on_batch(x_test,y_test,return_dict=True)\n",
        "\n",
        "print(f\"the loss on the testing set is: \"+ str(results[\"loss\"]))\n",
        "print(f\"the accuracy of the testing set is: \" + str(results[\"accuracy\"]))"
      ]
    },
    {
      "cell_type": "code",
      "execution_count": 223,
      "metadata": {},
      "outputs": [
        {
          "name": "stdout",
          "output_type": "stream",
          "text": [
            "[106.0, 149.0, 107.0, 144.0]\n",
            "[107.0, 144.0, 110.0, 135.0]\n",
            "[110.0, 135.0, 111.0, 129.0]\n",
            "[111.0, 129.0, 114.0, 124.0]\n",
            "[114.0, 124.0, 116.0, 119.0]\n",
            "[116.0, 119.0, 118.0, 115.0]\n",
            "[118.0, 115.0, 120.0, 114.0]\n",
            "[120.0, 114.0, 123.0, 110.0]\n",
            "[123.0, 110.0, 126.0, 108.0]\n",
            "[126.0, 108.0, 128.0, 107.0]\n",
            "[128.0, 107.0, 132.0, 106.0]\n",
            "[132.0, 106.0, 134.0, 104.0]\n",
            "[134.0, 104.0, 136.0, 102.0]\n",
            "[136.0, 102.0, 138.0, 101.0]\n",
            "[138.0, 101.0, 142.0, 99.0]\n",
            "[142.0, 99.0, 144.0, 99.0]\n",
            "[144.0, 99.0, 149.0, 97.0]\n",
            "[149.0, 97.0, 155.0, 94.0]\n",
            "[155.0, 94.0, 160.0, 92.0]\n",
            "[160.0, 92.0, 166.0, 91.0]\n",
            "[166.0, 91.0, 170.0, 89.0]\n",
            "[170.0, 89.0, 175.0, 88.0]\n",
            "[175.0, 88.0, 178.0, 87.0]\n",
            "[178.0, 87.0, 182.0, 87.0]\n",
            "[182.0, 87.0, 186.0, 85.0]\n",
            "[186.0, 85.0, 188.0, 84.0]\n",
            "[188.0, 84.0, 191.0, 84.0]\n",
            "[191.0, 84.0, 194.0, 84.0]\n",
            "[194.0, 84.0, 195.0, 84.0]\n",
            "[195.0, 84.0, 198.0, 84.0]\n",
            "[198.0, 84.0, 201.0, 84.0]\n",
            "[201.0, 84.0, 203.0, 86.0]\n",
            "[203.0, 86.0, 205.0, 87.0]\n",
            "[205.0, 87.0, 206.0, 88.0]\n",
            "[206.0, 88.0, 209.0, 90.0]\n",
            "[209.0, 90.0, 211.0, 91.0]\n",
            "[211.0, 91.0, 214.0, 95.0]\n",
            "[214.0, 95.0, 217.0, 97.0]\n",
            "[217.0, 97.0, 219.0, 99.0]\n",
            "[219.0, 99.0, 222.0, 105.0]\n",
            "[222.0, 105.0, 223.0, 107.0]\n",
            "[223.0, 107.0, 226.0, 114.0]\n",
            "[226.0, 114.0, 227.0, 118.0]\n",
            "[227.0, 118.0, 228.0, 123.0]\n",
            "[228.0, 123.0, 231.0, 128.0]\n",
            "[231.0, 128.0, 232.0, 134.0]\n",
            "[232.0, 134.0, 233.0, 138.0]\n",
            "[233.0, 138.0, 234.0, 141.0]\n",
            "[234.0, 141.0, 235.0, 147.0]\n",
            "[235.0, 147.0, 236.0, 152.0]\n",
            "[236.0, 152.0, 236.0, 160.0]\n",
            "[236.0, 160.0, 236.0, 167.0]\n",
            "[236.0, 167.0, 236.0, 173.0]\n",
            "[236.0, 173.0, 236.0, 179.0]\n",
            "[236.0, 179.0, 234.0, 187.0]\n",
            "[234.0, 187.0, 233.0, 192.0]\n",
            "[233.0, 192.0, 231.0, 198.0]\n",
            "[231.0, 198.0, 229.0, 203.0]\n",
            "[229.0, 203.0, 226.0, 210.0]\n",
            "[226.0, 210.0, 222.0, 217.0]\n",
            "[222.0, 217.0, 218.0, 223.0]\n",
            "[218.0, 223.0, 213.0, 231.0]\n",
            "[213.0, 231.0, 210.0, 234.0]\n",
            "[210.0, 234.0, 202.0, 242.0]\n",
            "[202.0, 242.0, 196.0, 246.0]\n",
            "[196.0, 246.0, 191.0, 251.0]\n",
            "[191.0, 251.0, 185.0, 255.0]\n",
            "[185.0, 255.0, 181.0, 260.0]\n",
            "[181.0, 260.0, 176.0, 266.0]\n",
            "[176.0, 266.0, 170.0, 273.0]\n",
            "[170.0, 273.0, 164.0, 280.0]\n",
            "[164.0, 280.0, 162.0, 285.0]\n",
            "[162.0, 285.0, 160.0, 287.0]\n",
            "[160.0, 287.0, 154.0, 293.0]\n",
            "[154.0, 293.0, 153.0, 295.0]\n",
            "[153.0, 295.0, 150.0, 298.0]\n",
            "[150.0, 298.0, 147.0, 300.0]\n",
            "[147.0, 300.0, 146.0, 301.0]\n",
            "[146.0, 301.0, 145.0, 303.0]\n",
            "[145.0, 303.0, 144.0, 303.0]\n",
            "[144.0, 303.0, 142.0, 305.0]\n",
            "[142.0, 305.0, 142.0, 306.0]\n",
            "[142.0, 306.0, 141.0, 307.0]\n",
            "[141.0, 307.0, 140.0, 307.0]\n",
            "[140.0, 307.0, 140.0, 308.0]\n",
            "[140.0, 308.0, 141.0, 307.0]\n",
            "[141.0, 307.0, 142.0, 307.0]\n",
            "[142.0, 307.0, 143.0, 307.0]\n",
            "[143.0, 307.0, 150.0, 305.0]\n",
            "[150.0, 305.0, 154.0, 303.0]\n",
            "[154.0, 303.0, 160.0, 303.0]\n",
            "[160.0, 303.0, 166.0, 303.0]\n",
            "[166.0, 303.0, 179.0, 303.0]\n",
            "[179.0, 303.0, 185.0, 303.0]\n",
            "[185.0, 303.0, 194.0, 303.0]\n",
            "[194.0, 303.0, 199.0, 303.0]\n",
            "[199.0, 303.0, 205.0, 303.0]\n",
            "[205.0, 303.0, 212.0, 303.0]\n",
            "[212.0, 303.0, 224.0, 303.0]\n",
            "[224.0, 303.0, 240.0, 305.0]\n",
            "[240.0, 305.0, 246.0, 305.0]\n",
            "[246.0, 305.0, 255.0, 307.0]\n",
            "[255.0, 307.0, 262.0, 308.0]\n",
            "[262.0, 308.0, 271.0, 310.0]\n",
            "[271.0, 310.0, 274.0, 311.0]\n",
            "[274.0, 311.0, 282.0, 311.0]\n",
            "[282.0, 311.0, 288.0, 315.0]\n",
            "[288.0, 315.0, 293.0, 315.0]\n",
            "[293.0, 315.0, 297.0, 315.0]\n",
            "[297.0, 315.0, 299.0, 316.0]\n",
            "[299.0, 316.0, 301.0, 316.0]\n",
            "[301.0, 316.0, 303.0, 316.0]\n",
            "[303.0, 316.0, 305.0, 316.0]\n",
            "[305.0, 316.0, 306.0, 316.0]\n",
            "[306.0, 316.0, 307.0, 316.0]\n",
            "[307.0, 316.0, 312.0, 313.0]\n",
            "[312.0, 313.0, 314.0, 312.0]\n",
            "[314.0, 312.0, 319.0, 311.0]\n",
            "[319.0, 311.0, 322.0, 310.0]\n",
            "[322.0, 310.0, 329.0, 309.0]\n",
            "[329.0, 309.0, 333.0, 309.0]\n",
            "[333.0, 309.0, 340.0, 308.0]\n",
            "[340.0, 308.0, 344.0, 308.0]\n",
            "[344.0, 308.0, 350.0, 308.0]\n",
            "[350.0, 308.0, 352.0, 309.0]\n",
            "[352.0, 309.0, 355.0, 310.0]\n",
            "1/1 [==============================] - 0s 406ms/step\n",
            "[[0. 0. 1. 0. 0. 0. 0. 0. 0. 0.]]\n"
          ]
        }
      ],
      "source": [
        "import tkinter as tk\n",
        "from tkinter.colorchooser import askcolor\n",
        "# from tkinter import askcolor\n",
        "\n",
        "def start_drawing(event):\n",
        "    global is_drawing, prev_x, prev_y\n",
        "    is_drawing = True\n",
        "    \n",
        "    prev_x, prev_y = event.x, event.y\n",
        "# lines\n",
        "def draw(event):\n",
        "    global is_drawing, prev_x, prev_y\n",
        "    if is_drawing:\n",
        "        current_x, current_y = event.x, event.y\n",
        "        lines.append(canvas.create_line(prev_x, prev_y, current_x, current_y, fill=drawing_color, width=line_width, capstyle=tk.ROUND, smooth=True))\n",
        "        prev_x, prev_y = current_x, current_y\n",
        "\n",
        "def stop_drawing(event):\n",
        "    global is_drawing\n",
        "    is_drawing = False\n",
        "\n",
        "def predict_number():\n",
        "    image = Image.new(\"RGB\", (canvas.winfo_width(), canvas.winfo_height()), \"black\")\n",
        "    draw = ImageDraw.Draw(image)\n",
        "    # Draw the lines onto the image\n",
        "    global lines\n",
        "    for line in lines:\n",
        "        print(canvas.coords(line))\n",
        "        x1, y1, x2, y2 = canvas.coords(line)\n",
        "        draw.line((x1, y1, x2, y2), fill=drawing_color, width=line_width,joint=\"curve\")\n",
        "    lines = []\n",
        "    image_gray = image.convert(\"L\")\n",
        "    image_rescaled = image_gray.resize((28,28))\n",
        "    image_array = np.expand_dims(image_rescaled,axis=0)\n",
        "    prediction = model.predict(image_array)\n",
        "    label = prediction.argmax()\n",
        "    propability = prediction.max()\n",
        "    prediction_label.config(text=f\"you have drawn a {label} with confidence of {propability*100}%\")\n",
        "\n",
        "root = tk.Tk()\n",
        "root.title(\"Digit guesser\")\n",
        "\n",
        "canvas = tk.Canvas(root, bg=\"black\")\n",
        "canvas.pack(fill=\"both\", expand=True)\n",
        "\n",
        "is_drawing = False\n",
        "drawing_color = \"white\"\n",
        "line_width = 32\n",
        "lines = []\n",
        "\n",
        "root.geometry(\"420x420\")\n",
        "\n",
        "# Create a frame to hold the controls in the same line\n",
        "controls_frame = tk.Frame(root)\n",
        "controls_frame.pack(side=\"top\", fill=\"x\")\n",
        "\n",
        "clear_button = tk.Button(controls_frame, text=\"Clear Canvas\", command=lambda: canvas.delete(\"all\"))\n",
        "\n",
        "prediction_label = tk.Label(root,text=\"draw a digit (0-9)\")\n",
        "\n",
        "clear_button.pack(side=\"left\", padx=5, pady=5)\n",
        "\n",
        "prediction_label.pack(side=\"top\")\n",
        "\n",
        "clear_button = tk.Button(controls_frame, text=\"confirm\", command=predict_number)\n",
        "clear_button.pack(side=\"right\", padx=5, pady=5)\n",
        "canvas.bind(\"<Button-1>\", start_drawing)\n",
        "canvas.bind(\"<B1-Motion>\", draw)\n",
        "canvas.bind(\"<ButtonRelease-1>\", stop_drawing)\n",
        "root.mainloop()"
      ]
    }
  ],
  "metadata": {
    "accelerator": "GPU",
    "colab": {
      "collapsed_sections": [],
      "name": "CNN_keras_mnist.ipynb",
      "provenance": [],
      "version": "0.3.2"
    },
    "kernelspec": {
      "display_name": "Python 3",
      "name": "python3"
    },
    "language_info": {
      "codemirror_mode": {
        "name": "ipython",
        "version": 3
      },
      "file_extension": ".py",
      "mimetype": "text/x-python",
      "name": "python",
      "nbconvert_exporter": "python",
      "pygments_lexer": "ipython3",
      "version": "3.10.13"
    }
  },
  "nbformat": 4,
  "nbformat_minor": 0
}
